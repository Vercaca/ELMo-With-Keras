{
  "nbformat": 4,
  "nbformat_minor": 0,
  "metadata": {
    "colab": {
      "name": "ELMo_with_keras.ipynb",
      "provenance": [],
      "collapsed_sections": [],
      "include_colab_link": true
    },
    "kernelspec": {
      "name": "python3",
      "display_name": "Python 3"
    }
  },
  "cells": [
    {
      "cell_type": "markdown",
      "metadata": {
        "id": "view-in-github",
        "colab_type": "text"
      },
      "source": [
        "<a href=\"https://colab.research.google.com/github/Vercaca/ELMo-With-Keras/blob/master/ELMo_with_keras.ipynb\" target=\"_parent\"><img src=\"https://colab.research.google.com/assets/colab-badge.svg\" alt=\"Open In Colab\"/></a>"
      ]
    },
    {
      "cell_type": "code",
      "metadata": {
        "id": "-sNyyh3IkypV",
        "colab_type": "code",
        "colab": {}
      },
      "source": [
        "import tensorflow as tf"
      ],
      "execution_count": 0,
      "outputs": []
    },
    {
      "cell_type": "code",
      "metadata": {
        "id": "8GlK0iEJk5wV",
        "colab_type": "code",
        "outputId": "66e847a4-244e-4f11-c7ff-b8997e4a4742",
        "colab": {
          "base_uri": "https://localhost:8080/",
          "height": 34
        }
      },
      "source": [
        "tf.__version__"
      ],
      "execution_count": 0,
      "outputs": [
        {
          "output_type": "execute_result",
          "data": {
            "text/plain": [
              "'1.15.0'"
            ]
          },
          "metadata": {
            "tags": []
          },
          "execution_count": 43
        }
      ]
    },
    {
      "cell_type": "code",
      "metadata": {
        "id": "AR3ub2CdlV5e",
        "colab_type": "code",
        "outputId": "52d301e3-2585-41d3-c855-3e2551827ab9",
        "colab": {
          "base_uri": "https://localhost:8080/",
          "height": 34
        }
      },
      "source": [
        "import keras\n",
        "keras.__version__"
      ],
      "execution_count": 0,
      "outputs": [
        {
          "output_type": "execute_result",
          "data": {
            "text/plain": [
              "'2.2.5'"
            ]
          },
          "metadata": {
            "tags": []
          },
          "execution_count": 44
        }
      ]
    },
    {
      "cell_type": "code",
      "metadata": {
        "id": "HYZZ2VAklPFn",
        "colab_type": "code",
        "colab": {}
      },
      "source": [
        "import tensorflow_hub as hub\n",
        "from keras import backend as K\n",
        "import keras.layers as layers\n",
        "from keras.models import Model, load_model\n",
        "from keras.engine import Layer\n",
        "\n",
        "import numpy as np"
      ],
      "execution_count": 0,
      "outputs": []
    },
    {
      "cell_type": "markdown",
      "metadata": {
        "id": "Pshni6UmO60P",
        "colab_type": "text"
      },
      "source": [
        "## Keras Version"
      ]
    },
    {
      "cell_type": "code",
      "metadata": {
        "id": "PPKkkQH8nQ2Z",
        "colab_type": "code",
        "colab": {}
      },
      "source": [
        "class ElmoEmbeddingLayer(Layer):\n",
        "  def __init__(self, **kwargs):\n",
        "    print('[__init__]')\n",
        "    super().__init__(**kwargs)\n",
        "    self.dimensions = 1024\n",
        "    self.trainable = True\n",
        "  \n",
        "  def build(self, input_shape):\n",
        "    print('[Build] input_shape={}'.format(input_shape))\n",
        "    self.elmo = hub.Module(\"https://tfhub.dev/google/elmo/3\", \n",
        "                           trainable=self.trainable,\n",
        "                           name=\"{}_module\".format(self.name))\n",
        "    self.trainable_weights += tf.trainable_variables(\n",
        "        scope=\"^{}_module/.*\".format(self.name))\n",
        "    \n",
        "    super().build(input_shape)\n",
        "    \n",
        "  def call(self, x, mask=None):\n",
        "    print('[call] x.shape = {}'.format(x.shape))\n",
        "    embeddings = self.elmo(K.squeeze(K.cast(x, tf.string), axis=1),\n",
        "                  signature=\"default\",\n",
        "                  as_dict=True)[\"default\"]\n",
        "    return embeddings\n",
        "  \n",
        "  def compute_mask(self, inputs, mask=None):\n",
        "    print('[compute_mask] inputs type = {}'.format(inputs.shape))\n",
        "    return backend.not_equal(inputs, '--PAD--')\n",
        "\n",
        "  def compute_output_shape(self, input_shape):\n",
        "    print('[compute_output_shape] input_shape = {}'.format(input_shape))\n",
        "    return (input_shape[0], self.dimensions)\n",
        "  "
      ],
      "execution_count": 0,
      "outputs": []
    },
    {
      "cell_type": "code",
      "metadata": {
        "id": "HzTwhpRCpHAO",
        "colab_type": "code",
        "colab": {}
      },
      "source": [
        "def build_model():\n",
        "  input_text = layers.Input(shape=(1, ), dtype=\"string\")\n",
        "  embedding = ElmoEmbeddingLayer()(input_text)\n",
        "  dense = layers.Dense(256, activation='relu')(embedding)\n",
        "  pred = layers.Dense(1, activation='sigmoid')(dense)\n",
        "\n",
        "  model = Model(inputs=[input_text], outputs=pred)\n",
        "  model.compile(loss='binary_crossentropy', \n",
        "                optimizer='adam', metrics=['accuracy'])\n",
        "  model.summary()\n",
        "  return model"
      ],
      "execution_count": 0,
      "outputs": []
    },
    {
      "cell_type": "code",
      "metadata": {
        "id": "Yp6h5u4VqtiS",
        "colab_type": "code",
        "colab": {}
      },
      "source": [
        "text = [[\"the cat is on the mat\", 1],\n",
        "         [\"dogs are in the fog\", 0]]\n",
        "import pandas as pd\n",
        "data = pd.DataFrame(text, columns=['text', 'polarity'])"
      ],
      "execution_count": 0,
      "outputs": []
    },
    {
      "cell_type": "code",
      "metadata": {
        "id": "FEYPAwCFNjq6",
        "colab_type": "code",
        "outputId": "ee0447ce-4c47-4730-bd0f-73254f7f581e",
        "colab": {
          "base_uri": "https://localhost:8080/",
          "height": 111
        }
      },
      "source": [
        "data"
      ],
      "execution_count": 0,
      "outputs": [
        {
          "output_type": "execute_result",
          "data": {
            "text/html": [
              "<div>\n",
              "<style scoped>\n",
              "    .dataframe tbody tr th:only-of-type {\n",
              "        vertical-align: middle;\n",
              "    }\n",
              "\n",
              "    .dataframe tbody tr th {\n",
              "        vertical-align: top;\n",
              "    }\n",
              "\n",
              "    .dataframe thead th {\n",
              "        text-align: right;\n",
              "    }\n",
              "</style>\n",
              "<table border=\"1\" class=\"dataframe\">\n",
              "  <thead>\n",
              "    <tr style=\"text-align: right;\">\n",
              "      <th></th>\n",
              "      <th>text</th>\n",
              "      <th>polarity</th>\n",
              "    </tr>\n",
              "  </thead>\n",
              "  <tbody>\n",
              "    <tr>\n",
              "      <th>0</th>\n",
              "      <td>the cat is on the mat</td>\n",
              "      <td>1</td>\n",
              "    </tr>\n",
              "    <tr>\n",
              "      <th>1</th>\n",
              "      <td>dogs are in the fog</td>\n",
              "      <td>0</td>\n",
              "    </tr>\n",
              "  </tbody>\n",
              "</table>\n",
              "</div>"
            ],
            "text/plain": [
              "                    text  polarity\n",
              "0  the cat is on the mat         1\n",
              "1    dogs are in the fog         0"
            ]
          },
          "metadata": {
            "tags": []
          },
          "execution_count": 109
        }
      ]
    },
    {
      "cell_type": "code",
      "metadata": {
        "id": "NRrJLntWIjWT",
        "colab_type": "code",
        "colab": {}
      },
      "source": [
        "train_df = data.copy()"
      ],
      "execution_count": 0,
      "outputs": []
    },
    {
      "cell_type": "code",
      "metadata": {
        "id": "3wap0zP8IUwV",
        "colab_type": "code",
        "outputId": "2c825b60-7069-4ee2-bab9-b33d4834b259",
        "colab": {
          "base_uri": "https://localhost:8080/",
          "height": 34
        }
      },
      "source": [
        "train_text = train_df['text'].tolist()\n",
        "train_text = [' '.join(t.split()[0:150]) for t in train_text]\n",
        "train_text = np.array(train_text, dtype=np.dtype('U25'))[:, np.newaxis]\n",
        "train_label = train_df['polarity'].tolist()\n",
        "\n",
        "\n",
        "test_text = train_text.copy()\n",
        "test_label = train_label[:]\n",
        "\n",
        "train_text.shape, train_label"
      ],
      "execution_count": 0,
      "outputs": [
        {
          "output_type": "execute_result",
          "data": {
            "text/plain": [
              "((2, 1), [1, 0])"
            ]
          },
          "metadata": {
            "tags": []
          },
          "execution_count": 113
        }
      ]
    },
    {
      "cell_type": "code",
      "metadata": {
        "id": "KItzfGfQJHsF",
        "colab_type": "code",
        "outputId": "460da040-2f54-4d2c-815a-478527c6638c",
        "colab": {
          "base_uri": "https://localhost:8080/",
          "height": 34
        }
      },
      "source": [
        "train_text[0][0]"
      ],
      "execution_count": 0,
      "outputs": [
        {
          "output_type": "execute_result",
          "data": {
            "text/plain": [
              "'the cat is on the mat'"
            ]
          },
          "metadata": {
            "tags": []
          },
          "execution_count": 99
        }
      ]
    },
    {
      "cell_type": "code",
      "metadata": {
        "id": "SyRaEuZWHzy9",
        "colab_type": "code",
        "outputId": "f029fa45-5818-495f-af38-a79b89c2cae6",
        "colab": {
          "base_uri": "https://localhost:8080/",
          "height": 700
        }
      },
      "source": [
        "# Build and fit\n",
        "model = build_model()\n",
        "model.fit(train_text, \n",
        "          train_label,\n",
        "          validation_data=(test_text, test_label),\n",
        "          epochs=1,\n",
        "          batch_size=32)"
      ],
      "execution_count": 0,
      "outputs": [
        {
          "output_type": "stream",
          "text": [
            "[__init__]\n",
            "[Build] input_shape=(None, 1)\n",
            "[call] x.shape = (?, 1)\n",
            "INFO:tensorflow:Saver not created because there are no variables in the graph to restore\n"
          ],
          "name": "stdout"
        },
        {
          "output_type": "stream",
          "text": [
            "INFO:tensorflow:Saver not created because there are no variables in the graph to restore\n"
          ],
          "name": "stderr"
        },
        {
          "output_type": "stream",
          "text": [
            "[compute_mask] inputs type = (?, 1)\n",
            "[compute_output_shape] input_shape = (None, 1)\n",
            "Model: \"model_12\"\n",
            "_________________________________________________________________\n",
            "Layer (type)                 Output Shape              Param #   \n",
            "=================================================================\n",
            "input_24 (InputLayer)        (None, 1)                 0         \n",
            "_________________________________________________________________\n",
            "elmo_embedding_layer_18 (Elm (None, 1024)              4         \n",
            "_________________________________________________________________\n",
            "dense_26 (Dense)             (None, 256)               262400    \n",
            "_________________________________________________________________\n",
            "dense_27 (Dense)             (None, 1)                 257       \n",
            "=================================================================\n",
            "Total params: 262,661\n",
            "Trainable params: 262,661\n",
            "Non-trainable params: 0\n",
            "_________________________________________________________________\n",
            "Train on 2 samples, validate on 2 samples\n",
            "Epoch 1/1\n",
            "WARNING:tensorflow:From /usr/local/lib/python3.6/dist-packages/keras/backend/tensorflow_backend.py:190: The name tf.get_default_session is deprecated. Please use tf.compat.v1.get_default_session instead.\n",
            "\n"
          ],
          "name": "stdout"
        },
        {
          "output_type": "stream",
          "text": [
            "WARNING:tensorflow:From /usr/local/lib/python3.6/dist-packages/keras/backend/tensorflow_backend.py:190: The name tf.get_default_session is deprecated. Please use tf.compat.v1.get_default_session instead.\n",
            "\n"
          ],
          "name": "stderr"
        },
        {
          "output_type": "stream",
          "text": [
            "WARNING:tensorflow:From /usr/local/lib/python3.6/dist-packages/keras/backend/tensorflow_backend.py:207: The name tf.global_variables is deprecated. Please use tf.compat.v1.global_variables instead.\n",
            "\n"
          ],
          "name": "stdout"
        },
        {
          "output_type": "stream",
          "text": [
            "WARNING:tensorflow:From /usr/local/lib/python3.6/dist-packages/keras/backend/tensorflow_backend.py:207: The name tf.global_variables is deprecated. Please use tf.compat.v1.global_variables instead.\n",
            "\n"
          ],
          "name": "stderr"
        },
        {
          "output_type": "stream",
          "text": [
            "WARNING:tensorflow:From /usr/local/lib/python3.6/dist-packages/keras/backend/tensorflow_backend.py:216: The name tf.is_variable_initialized is deprecated. Please use tf.compat.v1.is_variable_initialized instead.\n",
            "\n"
          ],
          "name": "stdout"
        },
        {
          "output_type": "stream",
          "text": [
            "WARNING:tensorflow:From /usr/local/lib/python3.6/dist-packages/keras/backend/tensorflow_backend.py:216: The name tf.is_variable_initialized is deprecated. Please use tf.compat.v1.is_variable_initialized instead.\n",
            "\n"
          ],
          "name": "stderr"
        },
        {
          "output_type": "stream",
          "text": [
            "\r2/2 [==============================] - 26s 13s/step - loss: 0.6749 - acc: 1.0000 - val_loss: 0.3886 - val_acc: 1.0000\n"
          ],
          "name": "stdout"
        },
        {
          "output_type": "execute_result",
          "data": {
            "text/plain": [
              "<keras.callbacks.History at 0x7f89dd02c438>"
            ]
          },
          "metadata": {
            "tags": []
          },
          "execution_count": 114
        }
      ]
    },
    {
      "cell_type": "markdown",
      "metadata": {
        "id": "Qrk3eiZFOwGb",
        "colab_type": "text"
      },
      "source": [
        "## Tensorflow version"
      ]
    },
    {
      "cell_type": "code",
      "metadata": {
        "id": "GHgfWXYWI4OV",
        "colab_type": "code",
        "outputId": "4fc60801-867b-4a94-d446-9bb6d823caba",
        "colab": {
          "base_uri": "https://localhost:8080/",
          "height": 34
        }
      },
      "source": [
        "x = keras.Input(shape=(1,), dtype=\"string\")\n",
        "# x = tf.placeholder(dtype=np.dtype('U25'), shape=(1,1))\n",
        "K.cast(x, tf.string)"
      ],
      "execution_count": 0,
      "outputs": [
        {
          "output_type": "execute_result",
          "data": {
            "text/plain": [
              "<tf.Tensor 'input_23:0' shape=(?, 1) dtype=string>"
            ]
          },
          "metadata": {
            "tags": []
          },
          "execution_count": 103
        }
      ]
    },
    {
      "cell_type": "code",
      "metadata": {
        "id": "GoUvoJbXKxAH",
        "colab_type": "code",
        "outputId": "8d481805-03ec-4e78-bcf8-4f6a669c610a",
        "colab": {
          "base_uri": "https://localhost:8080/",
          "height": 34
        }
      },
      "source": [
        "with tf.Session() as sess:\n",
        "  print(sess.run(K.squeeze(K.cast(x, tf.string), axis=1), feed_dict={x: train_text}))"
      ],
      "execution_count": 0,
      "outputs": [
        {
          "output_type": "stream",
          "text": [
            "[b'the cat is on the mat' b'dogs are in the fog']\n"
          ],
          "name": "stdout"
        }
      ]
    },
    {
      "cell_type": "code",
      "metadata": {
        "id": "BbNeaJzSLxz0",
        "colab_type": "code",
        "outputId": "b4606d8b-61a2-4ae0-c2e9-37ff36bab874",
        "colab": {
          "base_uri": "https://localhost:8080/",
          "height": 34
        }
      },
      "source": [
        "np.array([['you']], dtype=np.dtype())"
      ],
      "execution_count": 0,
      "outputs": [
        {
          "output_type": "execute_result",
          "data": {
            "text/plain": [
              "array([['you']], dtype='<U25')"
            ]
          },
          "metadata": {
            "tags": []
          },
          "execution_count": 77
        }
      ]
    },
    {
      "cell_type": "code",
      "metadata": {
        "id": "rosq42OQLBcX",
        "colab_type": "code",
        "colab": {}
      },
      "source": [
        ""
      ],
      "execution_count": 0,
      "outputs": []
    }
  ]
}